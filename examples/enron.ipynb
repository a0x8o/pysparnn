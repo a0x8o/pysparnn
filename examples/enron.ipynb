{
 "cells": [
  {
   "cell_type": "code",
   "execution_count": null,
   "metadata": {
    "collapsed": true
   },
   "outputs": [],
   "source": [
    "# Copyright (c) 2016-present, Facebook, Inc.\n",
    "# All rights reserved.\n",
    "#\n",
    "# This source code is licensed under the BSD-style license found in the\n",
    "# LICENSE file in the root directory of this source tree. An additional grant\n",
    "# of patent rights can be found in the PATENTS file in the same directory."
   ]
  },
  {
   "cell_type": "markdown",
   "metadata": {},
   "source": [
    "# Evaluate pysparnn on Enron data"
   ]
  },
  {
   "cell_type": "code",
   "execution_count": 1,
   "metadata": {
    "collapsed": true
   },
   "outputs": [],
   "source": [
    "import numpy as np\n",
    "import time\n",
    "import inspect\n",
    "\n",
    "from scipy.sparse import csr_matrix\n",
    "from sklearn.datasets import fetch_20newsgroups\n",
    "from sklearn.neighbors import LSHForest\n",
    "from sklearn.feature_extraction import DictVectorizer"
   ]
  },
  {
   "cell_type": "code",
   "execution_count": 2,
   "metadata": {
    "collapsed": true
   },
   "outputs": [],
   "source": [
    "# make sure you run 'python setup.py install' first!\n",
    "import pysparnn"
   ]
  },
  {
   "cell_type": "markdown",
   "metadata": {},
   "source": [
    "## Get data"
   ]
  },
  {
   "cell_type": "raw",
   "metadata": {
    "collapsed": false
   },
   "source": [
    "# fetch data\n",
    "\n",
    "\n",
    "!wget https://www.cs.cmu.edu/~./enron/enron_mail_20150507.tgz\n",
    "\n",
    "\n",
    "_ = !tar -xzvf enron_mail_20150507.tgz"
   ]
  },
  {
   "cell_type": "code",
   "execution_count": 3,
   "metadata": {
    "collapsed": false
   },
   "outputs": [],
   "source": [
    "# load enron data \n",
    "import os\n",
    "import sys\n",
    "\n",
    "docs = []\n",
    "max_docs = 100000\n",
    "for folder, subs, files in os.walk('maildir'):\n",
    "    for filename in files:\n",
    "        with open(os.path.join(folder, filename), 'r') as src:\n",
    "            txt = ' '.join(src.readlines())\n",
    "            if len(txt) > 0:\n",
    "                docs.append(txt)\n",
    "        if len(docs) > max_docs:\n",
    "            break                \n",
    "    if len(docs) > max_docs:\n",
    "        break"
   ]
  },
  {
   "cell_type": "code",
   "execution_count": 4,
   "metadata": {
    "collapsed": false
   },
   "outputs": [
    {
     "name": "stdout",
     "output_type": "stream",
     "text": [
      "Num docs: 100001\n",
      "Avg doc length: 413.757442426\n",
      "Num unique words: 942676\n"
     ]
    }
   ],
   "source": [
    "print 'Num docs: {}'.format(len(docs))\n",
    "print 'Avg doc length: {}'.format(np.mean([len(x.split()) for x in docs]))\n",
    "words = set()\n",
    "for doc in docs:\n",
    "    words.update(doc.split())\n",
    "print 'Num unique words: {}'.format(len(words))\n",
    "del words"
   ]
  },
  {
   "cell_type": "markdown",
   "metadata": {},
   "source": [
    "## Turn documents into vectors"
   ]
  },
  {
   "cell_type": "code",
   "execution_count": 5,
   "metadata": {
    "collapsed": false
   },
   "outputs": [],
   "source": [
    "from sklearn.neighbors import LSHForest, NearestNeighbors \n",
    "from sklearn.feature_extraction.text import TfidfVectorizer\n",
    "\n",
    "tv = TfidfVectorizer(decode_error='ignore')\n",
    "\n",
    "features = csr_matrix(tv.fit_transform(docs))\n",
    "\n",
    "doc_index = np.array(range(len(docs)))"
   ]
  },
  {
   "cell_type": "code",
   "execution_count": 6,
   "metadata": {
    "collapsed": true
   },
   "outputs": [],
   "source": [
    "test_features = features[:2000]\n",
    "train_features = features[2000:]"
   ]
  },
  {
   "cell_type": "markdown",
   "metadata": {},
   "source": [
    "## Create an answer key"
   ]
  },
  {
   "cell_type": "code",
   "execution_count": 7,
   "metadata": {
    "collapsed": false
   },
   "outputs": [
    {
     "data": {
      "text/plain": [
       "NearestNeighbors(algorithm='brute', leaf_size=30, metric='cosine',\n",
       "         metric_params=None, n_jobs=1, n_neighbors=5, p=2, radius=1.0)"
      ]
     },
     "execution_count": 7,
     "metadata": {},
     "output_type": "execute_result"
    }
   ],
   "source": [
    "knn = NearestNeighbors(algorithm='brute', metric='cosine')\n",
    "        \n",
    "knn.fit(train_features)"
   ]
  },
  {
   "cell_type": "code",
   "execution_count": 8,
   "metadata": {
    "collapsed": false
   },
   "outputs": [
    {
     "data": {
      "text/plain": [
       "43.259413957595825"
      ]
     },
     "execution_count": 8,
     "metadata": {},
     "output_type": "execute_result"
    }
   ],
   "source": [
    "t0 = time.time()\n",
    "# get 1 NN for each document\n",
    "answers = knn.kneighbors(test_features, n_neighbors=1, return_distance=False)\n",
    "time.time() - t0"
   ]
  },
  {
   "cell_type": "code",
   "execution_count": 9,
   "metadata": {
    "collapsed": false
   },
   "outputs": [
    {
     "name": "stderr",
     "output_type": "stream",
     "text": [
      "/Users/spencebeecher/anaconda2/lib/python2.7/site-packages/sklearn/neighbors/base.py:229: UserWarning: cannot use tree with sparse input: using brute force\n",
      "  warnings.warn(\"cannot use tree with sparse input: \"\n"
     ]
    },
    {
     "data": {
      "text/plain": [
       "39.70149898529053"
      ]
     },
     "execution_count": 9,
     "metadata": {},
     "output_type": "execute_result"
    }
   ],
   "source": [
    "bknn = NearestNeighbors(algorithm='ball_tree')\n",
    "        \n",
    "bknn.fit(train_features)\n",
    "\n",
    "t0 = time.time()\n",
    "# get 1 NN for each document\n",
    "_ = bknn.kneighbors(test_features, n_neighbors=1, return_distance=False)\n",
    "time.time() - t0"
   ]
  },
  {
   "cell_type": "markdown",
   "metadata": {},
   "source": [
    "## Build models to compare"
   ]
  },
  {
   "cell_type": "code",
   "execution_count": 10,
   "metadata": {
    "collapsed": false
   },
   "outputs": [
    {
     "data": {
      "text/plain": [
       "92.33221197128296"
      ]
     },
     "execution_count": 10,
     "metadata": {},
     "output_type": "execute_result"
    }
   ],
   "source": [
    "t0 = time.time()\n",
    "snn = pysparnn.MultiClusterIndex(train_features, doc_index, num_indexes=2)\n",
    "time.time() - t0"
   ]
  },
  {
   "cell_type": "code",
   "execution_count": 11,
   "metadata": {
    "collapsed": false
   },
   "outputs": [
    {
     "data": {
      "text/plain": [
       "17.43657684326172"
      ]
     },
     "execution_count": 11,
     "metadata": {},
     "output_type": "execute_result"
    }
   ],
   "source": [
    "t0 = time.time()\n",
    "lshf = LSHForest(n_neighbors=1)\n",
    "        \n",
    "lshf.fit(train_features)\n",
    "time.time() - t0"
   ]
  },
  {
   "cell_type": "markdown",
   "metadata": {},
   "source": [
    "## Compare results"
   ]
  },
  {
   "cell_type": "code",
   "execution_count": 12,
   "metadata": {
    "collapsed": false
   },
   "outputs": [],
   "source": [
    "import pysparnn_utils\n",
    "import time "
   ]
  },
  {
   "cell_type": "code",
   "execution_count": 13,
   "metadata": {
    "collapsed": false
   },
   "outputs": [
    {
     "name": "stdout",
     "output_type": "stream",
     "text": [
      "Recall: 0.9595\n"
     ]
    },
    {
     "data": {
      "text/plain": [
       "21.88961887359619"
      ]
     },
     "execution_count": 13,
     "metadata": {},
     "output_type": "execute_result"
    }
   ],
   "source": [
    "t0 = time.time()\n",
    "\n",
    "results = snn.search(test_features, return_distance=False)\n",
    "\n",
    "print 'Recall:', pysparnn_utils.recall(answers, results).mean()\n",
    "\n",
    "snn_time = time.time() - t0\n",
    "snn_time"
   ]
  },
  {
   "cell_type": "code",
   "execution_count": 14,
   "metadata": {
    "collapsed": false
   },
   "outputs": [
    {
     "name": "stdout",
     "output_type": "stream",
     "text": [
      "Recall: 0.9335\n"
     ]
    },
    {
     "data": {
      "text/plain": [
       "9.252957105636597"
      ]
     },
     "execution_count": 14,
     "metadata": {},
     "output_type": "execute_result"
    }
   ],
   "source": [
    "# only search one index instead of 2\n",
    "t0 = time.time()\n",
    "\n",
    "results = snn.search(test_features, return_distance=False, num_indexes=1)\n",
    "\n",
    "print 'Recall:', pysparnn_utils.recall(answers, results).mean()\n",
    "\n",
    "time.time() - t0"
   ]
  },
  {
   "cell_type": "code",
   "execution_count": 15,
   "metadata": {
    "collapsed": false
   },
   "outputs": [
    {
     "name": "stdout",
     "output_type": "stream",
     "text": [
      "Recall: 0.7165\n"
     ]
    },
    {
     "data": {
      "text/plain": [
       "72.78718495368958"
      ]
     },
     "execution_count": 15,
     "metadata": {},
     "output_type": "execute_result"
    }
   ],
   "source": [
    "t0 = time.time()\n",
    "\n",
    "results = lshf.kneighbors(test_features, return_distance=False)\n",
    "\n",
    "print 'Recall:',  pysparnn_utils.recall(answers, results).mean()\n",
    "lsh_time = time.time() - t0\n",
    "lsh_time"
   ]
  },
  {
   "cell_type": "code",
   "execution_count": 16,
   "metadata": {
    "collapsed": false
   },
   "outputs": [
    {
     "data": {
      "text/plain": [
       "3.3251919722315177"
      ]
     },
     "execution_count": 16,
     "metadata": {},
     "output_type": "execute_result"
    }
   ],
   "source": [
    "# LSH is 3x slower than snn\n",
    "lsh_time / snn_time"
   ]
  },
  {
   "cell_type": "markdown",
   "metadata": {},
   "source": [
    "# Track Pysparnn vs Bruteforce as a function of index size"
   ]
  },
  {
   "cell_type": "code",
   "execution_count": 35,
   "metadata": {
    "collapsed": false
   },
   "outputs": [],
   "source": [
    "snn_results = []\n",
    "\n",
    "for n in np.linspace(1000, 80000, 5):\n",
    "    feats = train_features[:n]\n",
    "    \n",
    "    ########## brute force ############\n",
    "    bf = NearestNeighbors(algorithm='brute', metric='cosine')\n",
    "\n",
    "    bf.fit(feats)\n",
    "\n",
    "    # get 1 NN for each document\n",
    "    t0 = time.time()\n",
    "    \n",
    "    answers = bf.kneighbors(test_features, n_neighbors=1, return_distance=False)\n",
    "    \n",
    "    bf_time = time.time() - t0\n",
    "    \n",
    "    \n",
    "    ########## snn ############\n",
    "    \n",
    "    snn = pysparnn.MultiClusterIndex(feats, doc_index, num_indexes=2)\n",
    "    # only search one index instead of 2\n",
    "    t0 = time.time()\n",
    "\n",
    "    results = snn.search(test_features, return_distance=False, num_indexes=1)\n",
    "    \n",
    "    snn_time = time.time() - t0\n",
    "    snn_recall = pysparnn_utils.recall(answers, results).mean()\n",
    "    \n",
    "    # results\n",
    "    snn_results.append({\n",
    "            'n': n,\n",
    "            'snn_recall': snn_recall , \n",
    "            'snn_time': snn_time,\n",
    "            'bf_recall': 1.0,\n",
    "            'bf_time': bf_time\n",
    "        })"
   ]
  },
  {
   "cell_type": "code",
   "execution_count": 36,
   "metadata": {
    "collapsed": false
   },
   "outputs": [],
   "source": [
    "import pandas as pd"
   ]
  },
  {
   "cell_type": "code",
   "execution_count": 37,
   "metadata": {
    "collapsed": false
   },
   "outputs": [
    {
     "data": {
      "text/plain": [
       "<matplotlib.axes._subplots.AxesSubplot at 0x2bb61ae50>"
      ]
     },
     "execution_count": 37,
     "metadata": {},
     "output_type": "execute_result"
    },
    {
     "data": {
      "image/png": "[encoded data removed]",
      "text/plain": [
       "<matplotlib.figure.Figure at 0x2bb5bd290>"
      ]
     },
     "metadata": {},
     "output_type": "display_data"
    }
   ],
   "source": [
    "pd.DataFrame(snn_results)[['n', 'snn_recall', 'bf_recall']].plot(x='n', ylim=(0, 1), linewidth=4,\n",
    "                                                                 title='Recall is roughly flat')"
   ]
  },
  {
   "cell_type": "code",
   "execution_count": 39,
   "metadata": {
    "collapsed": false
   },
   "outputs": [
    {
     "data": {
      "text/plain": [
       "<matplotlib.axes._subplots.AxesSubplot at 0x2fccb9f90>"
      ]
     },
     "execution_count": 39,
     "metadata": {},
     "output_type": "execute_result"
    },
    {
     "data": {
      "image/png": "[encoded data removed]",
      "text/plain": [
       "<matplotlib.figure.Figure at 0x302d69810>"
      ]
     },
     "metadata": {},
     "output_type": "display_data"
    }
   ],
   "source": [
    "df = pd.DataFrame(snn_results)[['n', 'snn_time', 'bf_time']]\n",
    "df.plot(x='n', linewidth=5,\n",
    "        title='Time per query for bruteforce increases linearly\\nfor pysparnn it grows somewhat like a square root')"
   ]
  }
 ],
 "metadata": {
  "kernelspec": {
   "display_name": "Python 2",
   "language": "python",
   "name": "python2"
  },
  "language_info": {
   "codemirror_mode": {
    "name": "ipython",
    "version": 2
   },
   "file_extension": ".py",
   "mimetype": "text/x-python",
   "name": "python",
   "nbconvert_exporter": "python",
   "pygments_lexer": "ipython2",
   "version": "2.7.12"
  }
 },
 "nbformat": 4,
 "nbformat_minor": 0
}
