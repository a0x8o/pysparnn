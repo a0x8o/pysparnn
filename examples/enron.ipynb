{
 "cells": [
  {
   "cell_type": "code",
   "execution_count": 1,
   "metadata": {
    "collapsed": true
   },
   "outputs": [],
   "source": [
    "# Copyright (c) 2016-present, Facebook, Inc.\n",
    "# All rights reserved.\n",
    "#\n",
    "# This source code is licensed under the BSD-style license found in the\n",
    "# LICENSE file in the root directory of this source tree. An additional grant\n",
    "# of patent rights can be found in the PATENTS file in the same directory.\n",
    "\n",
    "\n",
    "import numpy as np\n",
    "import time\n",
    "import inspect\n",
    "\n",
    "from scipy.sparse import csr_matrix\n",
    "from sklearn.datasets import fetch_20newsgroups\n",
    "from sklearn.neighbors import LSHForest\n",
    "from sklearn.feature_extraction import DictVectorizer"
   ]
  },
  {
   "cell_type": "code",
   "execution_count": 2,
   "metadata": {
    "collapsed": true
   },
   "outputs": [],
   "source": [
    "import pysparnn\n",
    "import pysparnn_utils"
   ]
  },
  {
   "cell_type": "raw",
   "metadata": {
    "collapsed": false
   },
   "source": [
    "!wget https://www.cs.cmu.edu/~./enron/enron_mail_20150507.tgz\n",
    "_ = !tar -xzvf enron_mail_20150507.tgz"
   ]
  },
  {
   "cell_type": "code",
   "execution_count": 3,
   "metadata": {
    "collapsed": false
   },
   "outputs": [],
   "source": [
    "import os\n",
    "import sys\n",
    "\n",
    "docs = []\n",
    "for folder, subs, files in os.walk('maildir'):\n",
    "    for filename in files:\n",
    "        with open(os.path.join(folder, filename), 'r') as src:\n",
    "            txt = ' '.join(src.readlines())\n",
    "            if len(txt) > 0:\n",
    "                docs.append(txt.split())"
   ]
  },
  {
   "cell_type": "code",
   "execution_count": 4,
   "metadata": {
    "collapsed": false
   },
   "outputs": [
    {
     "name": "stdout",
     "output_type": "stream",
     "text": [
      "Num docs: 517401\n",
      "Avg doc length: 329.550878332\n",
      "Num unique words: 2584811\n"
     ]
    }
   ],
   "source": [
    "print 'Num docs: {}'.format(len(docs))\n",
    "print 'Avg doc length: {}'.format(np.mean([len(x) for x in docs]))\n",
    "words = set()\n",
    "for doc in docs:\n",
    "    words.update(doc)\n",
    "print 'Num unique words: {}'.format(len(words))"
   ]
  },
  {
   "cell_type": "code",
   "execution_count": 5,
   "metadata": {
    "collapsed": false
   },
   "outputs": [
    {
     "name": "stdout",
     "output_type": "stream",
     "text": [
      "class PySparNNTextSearch:\n",
      "    def __init__(self, docs, k, matrix_size=None):\n",
      "        self.dv = DictVectorizer()\n",
      "        self.k = k\n",
      "        datas = np.array(range(len(docs)))\n",
      "        dicts = []\n",
      "        for d in docs:\n",
      "            dicts.append(dict([(w, 1) for w in d]))\n",
      "        self.dv.fit(dicts)\n",
      "        features = csr_matrix(self.dv.transform(dicts), dtype=int)\n",
      "        self.cp = pysparnn.ClusterIndex(features, datas, matrix_size=matrix_size)\n",
      "        \n",
      "    def search(self, docs):\n",
      "        dicts = []\n",
      "        for d in docs:\n",
      "            dicts.append(dict([(w, 1) for w in d]))\n",
      "        features = csr_matrix(self.dv.transform(dicts), dtype=int)\n",
      "        return self.cp.search(features, k=self.k, k_clusters=1, return_distance=False)\n",
      "\n"
     ]
    }
   ],
   "source": [
    "print inspect.getsource(pysparnn_utils.PySparNNTextSearch)"
   ]
  },
  {
   "cell_type": "code",
   "execution_count": null,
   "metadata": {
    "collapsed": false
   },
   "outputs": [],
   "source": [
    "t0 = time.time()\n",
    "text_search = pysparnn_utils.PySparNNTextSearch(docs, 1)\n",
    "print(time.time() - t0)"
   ]
  },
  {
   "cell_type": "code",
   "execution_count": 30,
   "metadata": {
    "collapsed": false
   },
   "outputs": [],
   "source": [
    "answers = list(range(len(docs)))"
   ]
  },
  {
   "cell_type": "code",
   "execution_count": null,
   "metadata": {
    "collapsed": false
   },
   "outputs": [],
   "source": [
    "snn_time, snn_accuracy = pysparnn_utils.knn_benchmark(text_search, docs, answers)"
   ]
  },
  {
   "cell_type": "code",
   "execution_count": null,
   "metadata": {
    "collapsed": false
   },
   "outputs": [],
   "source": [
    "print('PySparNN median time per query: {0}'.format(snn_time)) \n",
    "print('PySparNN median accuracy: {0}'.format(snn_accuracy)) "
   ]
  },
  {
   "cell_type": "code",
   "execution_count": null,
   "metadata": {
    "collapsed": false
   },
   "outputs": [],
   "source": [
    "print inspect.getsource(pysparnn_utils.LSHForestTextSearch)"
   ]
  },
  {
   "cell_type": "code",
   "execution_count": null,
   "metadata": {
    "collapsed": false
   },
   "outputs": [],
   "source": [
    "t0 = time.time()\n",
    "lsh_search = pysparnn_utils.LSHForestTextSearch(docs, 2)\n",
    "print(time.time() - t0)"
   ]
  },
  {
   "cell_type": "code",
   "execution_count": null,
   "metadata": {
    "collapsed": false
   },
   "outputs": [],
   "source": [
    "lsh_time, lsh_accuracy = pysparnn_utils.knn_benchmark(lsh_search, docs, answers)"
   ]
  },
  {
   "cell_type": "code",
   "execution_count": null,
   "metadata": {
    "collapsed": false
   },
   "outputs": [],
   "source": [
    "print('LSH median time per query: {0}'.format(lsh_time)) \n",
    "print('LSH median accuracy: {0}'.format(lsh_accuracy)) "
   ]
  },
  {
   "cell_type": "code",
   "execution_count": null,
   "metadata": {
    "collapsed": false
   },
   "outputs": [],
   "source": [
    "lsh_time / snn_time"
   ]
  },
  {
   "cell_type": "code",
   "execution_count": null,
   "metadata": {
    "collapsed": true
   },
   "outputs": [],
   "source": []
  }
 ],
 "metadata": {
  "kernelspec": {
   "display_name": "Python 2",
   "language": "python",
   "name": "python2"
  },
  "language_info": {
   "codemirror_mode": {
    "name": "ipython",
    "version": 2
   },
   "file_extension": ".py",
   "mimetype": "text/x-python",
   "name": "python",
   "nbconvert_exporter": "python",
   "pygments_lexer": "ipython2",
   "version": "2.7.11"
  }
 },
 "nbformat": 4,
 "nbformat_minor": 0
}
