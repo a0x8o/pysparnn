{
 "cells": [
  {
   "cell_type": "code",
   "execution_count": 1,
   "metadata": {
    "collapsed": false
   },
   "outputs": [],
   "source": [
    "# Copyright (c) 2016-present, Facebook, Inc.\n",
    "# All rights reserved.\n",
    "#\n",
    "# This source code is licensed under the BSD-style license found in the\n",
    "# LICENSE file in the root directory of this source tree. An additional grant\n",
    "# of patent rights can be found in the PATENTS file in the same directory.\n",
    "\n",
    "\n",
    "import numpy as np\n",
    "import time\n",
    "from scipy.sparse import csr_matrix\n",
    "from sklearn.datasets import fetch_20newsgroups\n",
    "from sklearn.neighbors import LSHForest\n",
    "from sklearn.feature_extraction import DictVectorizer"
   ]
  },
  {
   "cell_type": "code",
   "execution_count": 2,
   "metadata": {
    "collapsed": false
   },
   "outputs": [],
   "source": [
    "# make sure you run 'python setup.py install' first!\n",
    "import pysparnn"
   ]
  },
  {
   "cell_type": "markdown",
   "metadata": {
    "collapsed": false
   },
   "source": [
    "# Fetch data"
   ]
  },
  {
   "cell_type": "code",
   "execution_count": 3,
   "metadata": {
    "collapsed": false
   },
   "outputs": [],
   "source": [
    "dataset = fetch_20newsgroups(subset='all', shuffle=True)\n",
    "\n",
    "docs = np.array([x.split() for x in dataset.data])\n"
   ]
  },
  {
   "cell_type": "code",
   "execution_count": 4,
   "metadata": {
    "collapsed": false
   },
   "outputs": [
    {
     "name": "stdout",
     "output_type": "stream",
     "text": [
      "Num docs: 18846\n",
      "Avg doc length: 283.656001273\n",
      "Num unique words: 386410\n"
     ]
    }
   ],
   "source": [
    "print 'Num docs: {}'.format(len(docs))\n",
    "print 'Avg doc length: {}'.format(np.mean([len(x) for x in docs]))\n",
    "words = set()\n",
    "for doc in docs:\n",
    "    words.update(doc)\n",
    "print 'Num unique words: {}'.format(len(words))    "
   ]
  },
  {
   "cell_type": "markdown",
   "metadata": {},
   "source": [
    "# Build LSH & PySparNN indexes"
   ]
  },
  {
   "cell_type": "code",
   "execution_count": 5,
   "metadata": {
    "collapsed": true
   },
   "outputs": [],
   "source": [
    "import pysparnn_utils\n",
    "import inspect"
   ]
  },
  {
   "cell_type": "code",
   "execution_count": 6,
   "metadata": {
    "collapsed": false
   },
   "outputs": [
    {
     "name": "stdout",
     "output_type": "stream",
     "text": [
      "class PySparNNTextSearch:\n",
      "    def __init__(self, docs, k, matrix_size=None):\n",
      "        self.dv = DictVectorizer()\n",
      "        self.k = k\n",
      "        datas = np.array(range(len(docs)))\n",
      "        dicts = []\n",
      "        for d in docs:\n",
      "            dicts.append(dict([(w, 1) for w in d]))\n",
      "        self.dv.fit(dicts)\n",
      "        features = csr_matrix(self.dv.transform(dicts), dtype=int)\n",
      "        self.cp = pysparnn.ClusterIndex(features, datas, matrix_size=matrix_size)\n",
      "        \n",
      "    def search(self, docs):\n",
      "        dicts = []\n",
      "        for d in docs:\n",
      "            dicts.append(dict([(w, 1) for w in d]))\n",
      "        features = csr_matrix(self.dv.transform(dicts), dtype=int)\n",
      "        return self.cp.search(features, k=self.k, k_clusters=1, return_distance=False)\n",
      "\n"
     ]
    }
   ],
   "source": [
    "print inspect.getsource(pysparnn_utils.PySparNNTextSearch)"
   ]
  },
  {
   "cell_type": "code",
   "execution_count": 7,
   "metadata": {
    "collapsed": false
   },
   "outputs": [
    {
     "name": "stdout",
     "output_type": "stream",
     "text": [
      "class LSHForestTextSearch:\n",
      "    def __init__(self, docs, k):\n",
      "        self.lshf = LSHForest(n_estimators=1, n_candidates=1,\n",
      "                     n_neighbors=k)\n",
      "        self.dv = DictVectorizer()\n",
      "        self.k = k\n",
      "        \n",
      "        dicts = []\n",
      "        for d in docs:\n",
      "            dicts.append(dict([(w, 1) for w in d]))\n",
      "        self.dv.fit(dicts)\n",
      "        features = self.dv.transform(dicts)\n",
      "        # floats are faster\n",
      "        # features = csr_matrix(features, dtype=int)\n",
      "        self.lshf.fit(features)\n",
      "        \n",
      "    def search(self, docs):\n",
      "        dicts = []\n",
      "        for d in docs:\n",
      "            dicts.append(dict([(w, 1) for w in d]))\n",
      "        features = self.dv.transform(dicts)\n",
      "        # floats are faster\n",
      "        # features = csr_matrix(features, dtype=int)\n",
      "        return self.lshf.kneighbors(features, return_distance=False, n_neighbors=self.k)    \n",
      "\n"
     ]
    }
   ],
   "source": [
    "print inspect.getsource(pysparnn_utils.LSHForestTextSearch)"
   ]
  },
  {
   "cell_type": "code",
   "execution_count": 8,
   "metadata": {
    "collapsed": true
   },
   "outputs": [],
   "source": [
    "k = 1\n",
    "index_docs = docs\n",
    "search_docs = index_docs[:1000]"
   ]
  },
  {
   "cell_type": "code",
   "execution_count": 9,
   "metadata": {
    "collapsed": false
   },
   "outputs": [
    {
     "name": "stdout",
     "output_type": "stream",
     "text": [
      "14.829020977\n"
     ]
    }
   ],
   "source": [
    "t0 = time.time()\n",
    "knn_search = pysparnn_utils.KNNTextSearch(index_docs, k)\n",
    "print(time.time() - t0)"
   ]
  },
  {
   "cell_type": "code",
   "execution_count": 10,
   "metadata": {
    "collapsed": false
   },
   "outputs": [],
   "source": [
    "answers = knn_search.search(search_docs)"
   ]
  },
  {
   "cell_type": "code",
   "execution_count": 11,
   "metadata": {
    "collapsed": false,
    "scrolled": false
   },
   "outputs": [
    {
     "name": "stdout",
     "output_type": "stream",
     "text": [
      "20.4018728733\n"
     ]
    }
   ],
   "source": [
    "t0 = time.time()\n",
    "snn_search = pysparnn_utils.PySparNNTextSearch(index_docs, k)\n",
    "print(time.time() - t0)"
   ]
  },
  {
   "cell_type": "code",
   "execution_count": 12,
   "metadata": {
    "collapsed": false
   },
   "outputs": [
    {
     "name": "stdout",
     "output_type": "stream",
     "text": [
      "15.7356410027\n"
     ]
    }
   ],
   "source": [
    "t0 = time.time()    \n",
    "lsh = pysparnn_utils.LSHForestTextSearch(docs, k=3) \n",
    "print(time.time() - t0)"
   ]
  },
  {
   "cell_type": "code",
   "execution_count": 13,
   "metadata": {
    "collapsed": false
   },
   "outputs": [],
   "source": [
    "snn_time, snn_accuracy = pysparnn_utils.knn_benchmark(snn_search, search_docs, answers, n_trials=2000, docs_per_query=1)\n",
    "lsh_time, lsh_accuracy = pysparnn_utils.knn_benchmark(lsh, search_docs, answers, n_trials=2000, docs_per_query=1)"
   ]
  },
  {
   "cell_type": "code",
   "execution_count": 14,
   "metadata": {
    "collapsed": false
   },
   "outputs": [
    {
     "name": "stdout",
     "output_type": "stream",
     "text": [
      "PySparNN median time per query: 0.0070708990097\n",
      "PySparNN median accuracy: 1.0\n"
     ]
    }
   ],
   "source": [
    "print('PySparNN median time per query: {0}'.format(snn_time)) \n",
    "print('PySparNN median accuracy: {0}'.format(snn_accuracy)) "
   ]
  },
  {
   "cell_type": "code",
   "execution_count": 15,
   "metadata": {
    "collapsed": false
   },
   "outputs": [
    {
     "name": "stdout",
     "output_type": "stream",
     "text": [
      "LSH median time per query: 0.0999974012375\n",
      "LSH median accuracy: 1.0\n"
     ]
    }
   ],
   "source": [
    "print('LSH median time per query: {0}'.format(lsh_time)) \n",
    "print('LSH median accuracy: {0}'.format(lsh_accuracy)) "
   ]
  },
  {
   "cell_type": "code",
   "execution_count": 16,
   "metadata": {
    "collapsed": false
   },
   "outputs": [
    {
     "data": {
      "text/plain": [
       "14.142105706819523"
      ]
     },
     "execution_count": 16,
     "metadata": {},
     "output_type": "execute_result"
    }
   ],
   "source": [
    "lsh_time / snn_time"
   ]
  },
  {
   "cell_type": "code",
   "execution_count": null,
   "metadata": {
    "collapsed": true
   },
   "outputs": [],
   "source": []
  }
 ],
 "metadata": {
  "kernelspec": {
   "display_name": "Python 2",
   "language": "python",
   "name": "python2"
  },
  "language_info": {
   "codemirror_mode": {
    "name": "ipython",
    "version": 2
   },
   "file_extension": ".py",
   "mimetype": "text/x-python",
   "name": "python",
   "nbconvert_exporter": "python",
   "pygments_lexer": "ipython2",
   "version": "2.7.11"
  }
 },
 "nbformat": 4,
 "nbformat_minor": 0
}
